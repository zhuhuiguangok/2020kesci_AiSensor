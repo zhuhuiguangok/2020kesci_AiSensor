{
 "cells": [
  {
   "cell_type": "markdown",
   "metadata": {},
   "source": [
    "# 导入包"
   ]
  },
  {
   "cell_type": "code",
   "execution_count": 130,
   "metadata": {},
   "outputs": [],
   "source": [
    "import numpy as np\n",
    "import pandas as pd\n",
    "import lightgbm as lgb\n",
    "from scipy.stats import skew\n",
    "from scipy.stats import kurtosis\n",
    "from scipy.stats import mode\n",
    "from tqdm import tqdm\n",
    "from sklearn.model_selection import StratifiedKFold\n",
    "from collections import Counter\n",
    "from sklearn.metrics import f1_score, precision_score, recall_score, accuracy_score\n",
    "import warnings \n",
    "warnings.filterwarnings(\"ignore\")"
   ]
  },
  {
   "cell_type": "markdown",
   "metadata": {},
   "source": [
    "# 导入数据"
   ]
  },
  {
   "cell_type": "code",
   "execution_count": 2,
   "metadata": {},
   "outputs": [],
   "source": [
    "nrows = None\n",
    "\n",
    "df_train = pd.read_csv('../data/sensor_train.csv',sep=',',nrows=nrows)\n",
    "df_test = pd.read_csv('../data/sensor_test.csv',sep=',',nrows=nrows)\n",
    "df_submit = pd.read_csv('../data/提交结果示例.csv',sep=',',nrows=nrows)"
   ]
  },
  {
   "cell_type": "markdown",
   "metadata": {},
   "source": [
    "# 合并数据"
   ]
  },
  {
   "cell_type": "code",
   "execution_count": 3,
   "metadata": {},
   "outputs": [],
   "source": [
    "df_train['flag'] = 'train'\n",
    "df_test['flag'] = 'test'\n",
    "df_test['behavior_id'] = -1"
   ]
  },
  {
   "cell_type": "code",
   "execution_count": 131,
   "metadata": {},
   "outputs": [],
   "source": [
    "df_train_test = pd.concat([df_train, df_test])"
   ]
  },
  {
   "cell_type": "code",
   "execution_count": 5,
   "metadata": {},
   "outputs": [],
   "source": [
    "df_train_test['acc_all'] = (df_train_test['acc_x'] ** 2 + df_train_test['acc_y'] ** 2 + df_train_test['acc_z'] ** 2) ** 0.5\n",
    "df_train_test['acc_allg'] = (df_train_test['acc_xg'] ** 2 + df_train_test['acc_yg'] ** 2 + df_train_test['acc_zg'] ** 2) ** 0.5"
   ]
  },
  {
   "cell_type": "code",
   "execution_count": 6,
   "metadata": {},
   "outputs": [],
   "source": [
    "df_train_test = df_train_test.sort_values(['flag','fragment_id','time_point'])"
   ]
  },
  {
   "cell_type": "code",
   "execution_count": 8,
   "metadata": {},
   "outputs": [],
   "source": [
    "# 统计长度\n",
    "# Counter(list(df_train_test.groupby(['flag','fragment_id','behavior_id']).size()))"
   ]
  },
  {
   "cell_type": "markdown",
   "metadata": {},
   "source": [
    "# 数据聚合"
   ]
  },
  {
   "cell_type": "code",
   "execution_count": 9,
   "metadata": {},
   "outputs": [],
   "source": [
    "seq_len = 61\n",
    "def agg_func(x):\n",
    "    list_x = list(x)\n",
    "    len_x = len(list_x)\n",
    "    if len_x <= seq_len:\n",
    "        list_x = [0] * (seq_len-len_x) + list_x\n",
    "    else:\n",
    "        list_x = list_x[:seq_len]\n",
    "    return list_x\n",
    "\n",
    "map_agg_func = {    \n",
    "    'time_point' : agg_func,\n",
    "    \n",
    "    'acc_all' : agg_func,\n",
    "    'acc_allg' : agg_func,\n",
    "    \n",
    "    'acc_x' : agg_func,\n",
    "    'acc_y' : agg_func,\n",
    "    'acc_z' : agg_func,\n",
    "    \n",
    "    'acc_xg' : agg_func,\n",
    "    'acc_yg' : agg_func,\n",
    "    'acc_zg' : agg_func\n",
    "}"
   ]
  },
  {
   "cell_type": "code",
   "execution_count": 10,
   "metadata": {},
   "outputs": [],
   "source": [
    "df_train_test_list = df_train_test.groupby(['flag','fragment_id','behavior_id']).agg(map_agg_func).reset_index()"
   ]
  },
  {
   "cell_type": "markdown",
   "metadata": {},
   "source": [
    "# 查看聚合后的数据"
   ]
  },
  {
   "cell_type": "code",
   "execution_count": 11,
   "metadata": {},
   "outputs": [
    {
     "data": {
      "text/html": [
       "<div>\n",
       "<style scoped>\n",
       "    .dataframe tbody tr th:only-of-type {\n",
       "        vertical-align: middle;\n",
       "    }\n",
       "\n",
       "    .dataframe tbody tr th {\n",
       "        vertical-align: top;\n",
       "    }\n",
       "\n",
       "    .dataframe thead th {\n",
       "        text-align: right;\n",
       "    }\n",
       "</style>\n",
       "<table border=\"1\" class=\"dataframe\">\n",
       "  <thead>\n",
       "    <tr style=\"text-align: right;\">\n",
       "      <th></th>\n",
       "      <th>flag</th>\n",
       "      <th>fragment_id</th>\n",
       "      <th>behavior_id</th>\n",
       "      <th>time_point</th>\n",
       "      <th>acc_all</th>\n",
       "      <th>acc_allg</th>\n",
       "      <th>acc_x</th>\n",
       "      <th>acc_y</th>\n",
       "      <th>acc_z</th>\n",
       "      <th>acc_xg</th>\n",
       "      <th>acc_yg</th>\n",
       "      <th>acc_zg</th>\n",
       "    </tr>\n",
       "  </thead>\n",
       "  <tbody>\n",
       "    <tr>\n",
       "      <th>0</th>\n",
       "      <td>test</td>\n",
       "      <td>0</td>\n",
       "      <td>-1</td>\n",
       "      <td>[0, 0, 0, 71, 150, 244, 326, 409, 495, 579, 66...</td>\n",
       "      <td>[0, 0, 0, 1.1832159566199232, 1.22065556157337...</td>\n",
       "      <td>[0, 0, 0, 10.619322012256713, 10.16267681273, ...</td>\n",
       "      <td>[0, 0, 0, 0.2, 0.0, -0.2, 2.3, -0.3, 0.3, -0.8...</td>\n",
       "      <td>[0, 0, 0, 1.0, 1.0, 0.8, -0.4, -1.4, -1.1, 0.0...</td>\n",
       "      <td>[0, 0, 0, 0.6, -0.7, -2.4, -1.6, 3.3, 3.2, -0....</td>\n",
       "      <td>[0, 0, 0, 0.2, 0.2, -0.4, 2.5, 0.2, 0.5, -0.3,...</td>\n",
       "      <td>[0, 0, 0, 5.3, 6.0, 5.3, 4.5, 3.5, 3.1, 4.1, 4...</td>\n",
       "      <td>[0, 0, 0, 9.2, 8.2, 7.6, 3.4, 12.4, 9.8, 8.5, ...</td>\n",
       "    </tr>\n",
       "    <tr>\n",
       "      <th>1</th>\n",
       "      <td>test</td>\n",
       "      <td>1</td>\n",
       "      <td>-1</td>\n",
       "      <td>[0, 0, 0, 0, 0, 0, 151, 232, 318, 406, 493, 58...</td>\n",
       "      <td>[0, 0, 0, 0, 0, 0, 0.1, 0.1, 0.0, 0.2236067977...</td>\n",
       "      <td>[0, 0, 0, 0, 0, 0, 9.629122493768579, 9.525229...</td>\n",
       "      <td>[0, 0, 0, 0, 0, 0, 0.1, 0.0, 0.0, 0.2, 0.1, 0....</td>\n",
       "      <td>[0, 0, 0, 0, 0, 0, 0.0, 0.0, 0.0, -0.1, 0.0, 0...</td>\n",
       "      <td>[0, 0, 0, 0, 0, 0, 0.0, 0.1, 0.0, 0.0, -0.3, 0...</td>\n",
       "      <td>[0, 0, 0, 0, 0, 0, -1.0, -0.9, -1.2, -0.8, -0....</td>\n",
       "      <td>[0, 0, 0, 0, 0, 0, 4.6, 4.4, 4.6, 4.4, 4.4, 4....</td>\n",
       "      <td>[0, 0, 0, 0, 0, 0, 8.4, 8.4, 8.3, 8.2, 8.2, 8....</td>\n",
       "    </tr>\n",
       "    <tr>\n",
       "      <th>2</th>\n",
       "      <td>test</td>\n",
       "      <td>2</td>\n",
       "      <td>-1</td>\n",
       "      <td>[0, 0, 0, 0, 0, 46, 135, 233, 315, 397, 483, 5...</td>\n",
       "      <td>[0, 0, 0, 0, 0, 0.1, 0.31622776601683794, 0.5,...</td>\n",
       "      <td>[0, 0, 0, 0, 0, 10.00299955013495, 9.720596689...</td>\n",
       "      <td>[0, 0, 0, 0, 0, 0.0, 0.3, 0.3, 0.3, 0.4, -0.1,...</td>\n",
       "      <td>[0, 0, 0, 0, 0, 0.0, 0.0, 0.0, 0.3, 0.0, -0.1,...</td>\n",
       "      <td>[0, 0, 0, 0, 0, 0.1, -0.1, -0.4, 0.4, 0.5, 0.0...</td>\n",
       "      <td>[0, 0, 0, 0, 0, 0.9, 1.2, 1.2, 1.3, 1.2, 0.9, ...</td>\n",
       "      <td>[0, 0, 0, 0, 0, 3.3, 3.2, 3.2, 3.2, 2.9, 2.8, ...</td>\n",
       "      <td>[0, 0, 0, 0, 0, 9.4, 9.1, 8.8, 9.6, 9.7, 9.4, ...</td>\n",
       "    </tr>\n",
       "    <tr>\n",
       "      <th>3</th>\n",
       "      <td>test</td>\n",
       "      <td>3</td>\n",
       "      <td>-1</td>\n",
       "      <td>[0, 0, 0, 0, 91, 172, 264, 345, 436, 516, 618,...</td>\n",
       "      <td>[0, 0, 0, 0, 0.28284271247461906, 0.2, 0.0, 0....</td>\n",
       "      <td>[0, 0, 0, 0, 9.642095207992918, 9.390953093270...</td>\n",
       "      <td>[0, 0, 0, 0, 0.0, 0.0, 0.0, -0.2, 0.0, 0.0, 0....</td>\n",
       "      <td>[0, 0, 0, 0, -0.2, -0.2, 0.0, 0.0, 0.0, -0.1, ...</td>\n",
       "      <td>[0, 0, 0, 0, 0.2, 0.0, 0.0, -0.2, -0.2, -0.3, ...</td>\n",
       "      <td>[0, 0, 0, 0, 0.2, 0.3, 0.2, 0.2, 0.2, 0.1, 0.2...</td>\n",
       "      <td>[0, 0, 0, 0, 5.8, 5.9, 5.8, 5.9, 5.9, 5.8, 5.9...</td>\n",
       "      <td>[0, 0, 0, 0, 7.7, 7.3, 7.4, 7.5, 7.3, 7.1, 7.5...</td>\n",
       "    </tr>\n",
       "    <tr>\n",
       "      <th>4</th>\n",
       "      <td>test</td>\n",
       "      <td>4</td>\n",
       "      <td>-1</td>\n",
       "      <td>[0, 38, 112, 205, 282, 364, 451, 530, 617, 700...</td>\n",
       "      <td>[0, 0.7348469228349533, 0.31622776601683794, 1...</td>\n",
       "      <td>[0, 10.431203190428226, 9.633794683301073, 8.9...</td>\n",
       "      <td>[0, 0.2, 0.1, -0.1, -0.4, 2.3, 0.7, -0.9, 0.4,...</td>\n",
       "      <td>[0, -0.1, 0.0, 0.5, 1.0, -0.3, -0.5, -0.5, -1....</td>\n",
       "      <td>[0, 0.7, -0.3, -0.9, 0.3, 1.7, 0.3, -1.4, 1.4,...</td>\n",
       "      <td>[0, 3.7, 3.4, 3.0, 2.3, 5.6, 3.3, 2.3, 3.2, 1....</td>\n",
       "      <td>[0, 4.6, 5.0, 5.1, 6.1, 5.0, 4.9, 5.4, 4.7, 5....</td>\n",
       "      <td>[0, 8.6, 7.5, 6.7, 8.3, 9.1, 8.4, 5.9, 8.8, 6....</td>\n",
       "    </tr>\n",
       "  </tbody>\n",
       "</table>\n",
       "</div>"
      ],
      "text/plain": [
       "   flag  fragment_id  behavior_id  \\\n",
       "0  test            0           -1   \n",
       "1  test            1           -1   \n",
       "2  test            2           -1   \n",
       "3  test            3           -1   \n",
       "4  test            4           -1   \n",
       "\n",
       "                                          time_point  \\\n",
       "0  [0, 0, 0, 71, 150, 244, 326, 409, 495, 579, 66...   \n",
       "1  [0, 0, 0, 0, 0, 0, 151, 232, 318, 406, 493, 58...   \n",
       "2  [0, 0, 0, 0, 0, 46, 135, 233, 315, 397, 483, 5...   \n",
       "3  [0, 0, 0, 0, 91, 172, 264, 345, 436, 516, 618,...   \n",
       "4  [0, 38, 112, 205, 282, 364, 451, 530, 617, 700...   \n",
       "\n",
       "                                             acc_all  \\\n",
       "0  [0, 0, 0, 1.1832159566199232, 1.22065556157337...   \n",
       "1  [0, 0, 0, 0, 0, 0, 0.1, 0.1, 0.0, 0.2236067977...   \n",
       "2  [0, 0, 0, 0, 0, 0.1, 0.31622776601683794, 0.5,...   \n",
       "3  [0, 0, 0, 0, 0.28284271247461906, 0.2, 0.0, 0....   \n",
       "4  [0, 0.7348469228349533, 0.31622776601683794, 1...   \n",
       "\n",
       "                                            acc_allg  \\\n",
       "0  [0, 0, 0, 10.619322012256713, 10.16267681273, ...   \n",
       "1  [0, 0, 0, 0, 0, 0, 9.629122493768579, 9.525229...   \n",
       "2  [0, 0, 0, 0, 0, 10.00299955013495, 9.720596689...   \n",
       "3  [0, 0, 0, 0, 9.642095207992918, 9.390953093270...   \n",
       "4  [0, 10.431203190428226, 9.633794683301073, 8.9...   \n",
       "\n",
       "                                               acc_x  \\\n",
       "0  [0, 0, 0, 0.2, 0.0, -0.2, 2.3, -0.3, 0.3, -0.8...   \n",
       "1  [0, 0, 0, 0, 0, 0, 0.1, 0.0, 0.0, 0.2, 0.1, 0....   \n",
       "2  [0, 0, 0, 0, 0, 0.0, 0.3, 0.3, 0.3, 0.4, -0.1,...   \n",
       "3  [0, 0, 0, 0, 0.0, 0.0, 0.0, -0.2, 0.0, 0.0, 0....   \n",
       "4  [0, 0.2, 0.1, -0.1, -0.4, 2.3, 0.7, -0.9, 0.4,...   \n",
       "\n",
       "                                               acc_y  \\\n",
       "0  [0, 0, 0, 1.0, 1.0, 0.8, -0.4, -1.4, -1.1, 0.0...   \n",
       "1  [0, 0, 0, 0, 0, 0, 0.0, 0.0, 0.0, -0.1, 0.0, 0...   \n",
       "2  [0, 0, 0, 0, 0, 0.0, 0.0, 0.0, 0.3, 0.0, -0.1,...   \n",
       "3  [0, 0, 0, 0, -0.2, -0.2, 0.0, 0.0, 0.0, -0.1, ...   \n",
       "4  [0, -0.1, 0.0, 0.5, 1.0, -0.3, -0.5, -0.5, -1....   \n",
       "\n",
       "                                               acc_z  \\\n",
       "0  [0, 0, 0, 0.6, -0.7, -2.4, -1.6, 3.3, 3.2, -0....   \n",
       "1  [0, 0, 0, 0, 0, 0, 0.0, 0.1, 0.0, 0.0, -0.3, 0...   \n",
       "2  [0, 0, 0, 0, 0, 0.1, -0.1, -0.4, 0.4, 0.5, 0.0...   \n",
       "3  [0, 0, 0, 0, 0.2, 0.0, 0.0, -0.2, -0.2, -0.3, ...   \n",
       "4  [0, 0.7, -0.3, -0.9, 0.3, 1.7, 0.3, -1.4, 1.4,...   \n",
       "\n",
       "                                              acc_xg  \\\n",
       "0  [0, 0, 0, 0.2, 0.2, -0.4, 2.5, 0.2, 0.5, -0.3,...   \n",
       "1  [0, 0, 0, 0, 0, 0, -1.0, -0.9, -1.2, -0.8, -0....   \n",
       "2  [0, 0, 0, 0, 0, 0.9, 1.2, 1.2, 1.3, 1.2, 0.9, ...   \n",
       "3  [0, 0, 0, 0, 0.2, 0.3, 0.2, 0.2, 0.2, 0.1, 0.2...   \n",
       "4  [0, 3.7, 3.4, 3.0, 2.3, 5.6, 3.3, 2.3, 3.2, 1....   \n",
       "\n",
       "                                              acc_yg  \\\n",
       "0  [0, 0, 0, 5.3, 6.0, 5.3, 4.5, 3.5, 3.1, 4.1, 4...   \n",
       "1  [0, 0, 0, 0, 0, 0, 4.6, 4.4, 4.6, 4.4, 4.4, 4....   \n",
       "2  [0, 0, 0, 0, 0, 3.3, 3.2, 3.2, 3.2, 2.9, 2.8, ...   \n",
       "3  [0, 0, 0, 0, 5.8, 5.9, 5.8, 5.9, 5.9, 5.8, 5.9...   \n",
       "4  [0, 4.6, 5.0, 5.1, 6.1, 5.0, 4.9, 5.4, 4.7, 5....   \n",
       "\n",
       "                                              acc_zg  \n",
       "0  [0, 0, 0, 9.2, 8.2, 7.6, 3.4, 12.4, 9.8, 8.5, ...  \n",
       "1  [0, 0, 0, 0, 0, 0, 8.4, 8.4, 8.3, 8.2, 8.2, 8....  \n",
       "2  [0, 0, 0, 0, 0, 9.4, 9.1, 8.8, 9.6, 9.7, 9.4, ...  \n",
       "3  [0, 0, 0, 0, 7.7, 7.3, 7.4, 7.5, 7.3, 7.1, 7.5...  \n",
       "4  [0, 8.6, 7.5, 6.7, 8.3, 9.1, 8.4, 5.9, 8.8, 6....  "
      ]
     },
     "execution_count": 11,
     "metadata": {},
     "output_type": "execute_result"
    }
   ],
   "source": [
    "df_train_test_list.head()"
   ]
  },
  {
   "cell_type": "markdown",
   "metadata": {},
   "source": [
    "# 特征处理"
   ]
  },
  {
   "cell_type": "code",
   "execution_count": 12,
   "metadata": {},
   "outputs": [
    {
     "name": "stderr",
     "output_type": "stream",
     "text": [
      "14792it [00:05, 2702.28it/s]\n"
     ]
    }
   ],
   "source": [
    "list_features = []\n",
    "for index, row in tqdm(df_train_test_list.iterrows()):\n",
    "    acc_all = np.array(row['acc_all'])\n",
    "    acc_allg = np.array(row['acc_allg'])\n",
    "    acc_x = np.array(row['acc_x'])\n",
    "    acc_y = np.array(row['acc_y'])\n",
    "    acc_z = np.array(row['acc_z'])\n",
    "    acc_xg = np.array(row['acc_xg'])\n",
    "    acc_yg = np.array(row['acc_yg'])\n",
    "    acc_zg = np.array(row['acc_zg'])\n",
    "    \n",
    "    features = np.stack([acc_all,acc_allg,acc_x,acc_y,acc_z,acc_xg,acc_yg,acc_zg]).T\n",
    "    list_features.append(features)"
   ]
  },
  {
   "cell_type": "code",
   "execution_count": 13,
   "metadata": {},
   "outputs": [],
   "source": [
    "df_train_test_list['features'] = list_features"
   ]
  },
  {
   "cell_type": "markdown",
   "metadata": {},
   "source": [
    "# 模型训练 "
   ]
  },
  {
   "cell_type": "code",
   "execution_count": 133,
   "metadata": {},
   "outputs": [],
   "source": [
    "import tensorflow as tf"
   ]
  },
  {
   "cell_type": "code",
   "execution_count": 16,
   "metadata": {},
   "outputs": [
    {
     "name": "stderr",
     "output_type": "stream",
     "text": [
      "Using TensorFlow backend.\n"
     ]
    }
   ],
   "source": [
    "from keras.models import Sequential\n",
    "from keras.layers import LSTM\n",
    "from keras.layers.core import Dense, Dropout"
   ]
  },
  {
   "cell_type": "code",
   "execution_count": 17,
   "metadata": {},
   "outputs": [],
   "source": [
    "df_train_test_features = df_train_test_list\n",
    "X = df_train_test_features[df_train_test_features['flag']=='train']['features'].values\n",
    "y = df_train_test_features[df_train_test_features['flag']=='train']['behavior_id'].values\n",
    "X_test = df_train_test_features[df_train_test_features['flag']=='test']['features'].values"
   ]
  },
  {
   "cell_type": "markdown",
   "metadata": {},
   "source": [
    "# CNN"
   ]
  },
  {
   "cell_type": "code",
   "execution_count": 21,
   "metadata": {},
   "outputs": [],
   "source": [
    "def accuracy(y_true, y_pred):\n",
    "    return tf.keras.metrics.sparse_top_k_categorical_accuracy(y_true, y_pred, k=1)"
   ]
  },
  {
   "cell_type": "code",
   "execution_count": 24,
   "metadata": {},
   "outputs": [],
   "source": [
    "df_train_stacking = pd.DataFrame(np.zeros((X.shape[0],19)))\n",
    "df_test_stacking = pd.DataFrame(np.zeros((X_test.shape[0],19)))"
   ]
  },
  {
   "cell_type": "code",
   "execution_count": 25,
   "metadata": {},
   "outputs": [],
   "source": [
    "seed = 2020\n",
    "folds = 5\n",
    "kfold = StratifiedKFold(n_splits=folds, shuffle=True, random_state=seed)"
   ]
  },
  {
   "cell_type": "markdown",
   "metadata": {},
   "source": [
    "# 训练模型"
   ]
  },
  {
   "cell_type": "code",
   "execution_count": 105,
   "metadata": {},
   "outputs": [
    {
     "name": "stderr",
     "output_type": "stream",
     "text": [
      "\r",
      "0it [00:00, ?it/s]"
     ]
    },
    {
     "name": "stdout",
     "output_type": "stream",
     "text": [
      "--------------- begin ---------------\n",
      "Train on 5833 samples, validate on 1459 samples\n",
      "Epoch 1/5\n",
      "5833/5833 [==============================]5833/5833 [==============================] - 4s 614us/step - loss: 4.0393 - sparse_categorical_crossentropy: 4.0393 - accuracy: 0.0603 - val_loss: 4.9682 - val_sparse_categorical_crossentropy: 4.9682 - val_accuracy: 0.0761\n",
      "\n",
      "Epoch 2/5\n",
      "5833/5833 [==============================]5833/5833 [==============================] - 0s 28us/step - loss: 3.9514 - sparse_categorical_crossentropy: 3.9514 - accuracy: 0.0873 - val_loss: 2.8870 - val_sparse_categorical_crossentropy: 2.8870 - val_accuracy: 0.1309\n",
      "\n",
      "Epoch 3/5\n",
      "5833/5833 [==============================]5833/5833 [==============================] - 0s 28us/step - loss: 2.8058 - sparse_categorical_crossentropy: 2.8058 - accuracy: 0.1457 - val_loss: 2.7575 - val_sparse_categorical_crossentropy: 2.7575 - val_accuracy: 0.1515\n",
      "\n",
      "Epoch 4/5\n",
      "5833/5833 [==============================]5833/5833 [==============================] - 0s 28us/step - loss: 2.7196 - sparse_categorical_crossentropy: 2.7196 - accuracy: 0.1598 - val_loss: 2.6591 - val_sparse_categorical_crossentropy: 2.6591 - val_accuracy: 0.1981\n",
      "\n",
      "Epoch 5/5\n",
      "5833/5833 [==============================]5833/5833 [==============================] - 0s 27us/step - loss: 2.6352 - sparse_categorical_crossentropy: 2.6352 - accuracy: 0.2047 - val_loss: 2.5920 - val_sparse_categorical_crossentropy: 2.5920 - val_accuracy: 0.2529\n",
      "\n"
     ]
    },
    {
     "name": "stderr",
     "output_type": "stream",
     "text": [
      "\r",
      "1it [00:06,  6.61s/it]"
     ]
    },
    {
     "name": "stdout",
     "output_type": "stream",
     "text": [
      "--------------- end ---------------\n",
      "--------------- begin ---------------\n",
      "Train on 5833 samples, validate on 1459 samples\n",
      "Epoch 1/5\n",
      "5833/5833 [==============================]5833/5833 [==============================] - 4s 625us/step - loss: 3.6878 - sparse_categorical_crossentropy: 3.6878 - accuracy: 0.0495 - val_loss: 3.2469 - val_sparse_categorical_crossentropy: 3.2469 - val_accuracy: 0.0857\n",
      "\n",
      "Epoch 2/5\n",
      "5833/5833 [==============================]5833/5833 [==============================] - 0s 28us/step - loss: 3.5354 - sparse_categorical_crossentropy: 3.5354 - accuracy: 0.0993 - val_loss: 2.9627 - val_sparse_categorical_crossentropy: 2.9627 - val_accuracy: 0.0610\n",
      "\n",
      "Epoch 3/5\n",
      "5833/5833 [==============================]5833/5833 [==============================] - 0s 27us/step - loss: 2.8503 - sparse_categorical_crossentropy: 2.8503 - accuracy: 0.1017 - val_loss: 2.7320 - val_sparse_categorical_crossentropy: 2.7320 - val_accuracy: 0.1624\n",
      "\n",
      "Epoch 4/5\n",
      "5833/5833 [==============================]5833/5833 [==============================] - 0s 27us/step - loss: 2.7179 - sparse_categorical_crossentropy: 2.7179 - accuracy: 0.1608 - val_loss: 2.6635 - val_sparse_categorical_crossentropy: 2.6635 - val_accuracy: 0.1487\n",
      "\n",
      "Epoch 5/5\n",
      "5833/5833 [==============================]5833/5833 [==============================] - 0s 27us/step - loss: 2.6002 - sparse_categorical_crossentropy: 2.6002 - accuracy: 0.1740 - val_loss: 2.5173 - val_sparse_categorical_crossentropy: 2.5173 - val_accuracy: 0.2282\n",
      "\n"
     ]
    },
    {
     "name": "stderr",
     "output_type": "stream",
     "text": [
      "\r",
      "2it [00:13,  6.63s/it]"
     ]
    },
    {
     "name": "stdout",
     "output_type": "stream",
     "text": [
      "--------------- end ---------------\n",
      "--------------- begin ---------------\n",
      "Train on 5834 samples, validate on 1458 samples\n",
      "Epoch 1/5\n",
      "5834/5834 [==============================]5834/5834 [==============================] - 4s 642us/step - loss: 3.9035 - sparse_categorical_crossentropy: 3.9035 - accuracy: 0.0816 - val_loss: 4.1701 - val_sparse_categorical_crossentropy: 4.1701 - val_accuracy: 0.0816\n",
      "\n",
      "Epoch 2/5\n",
      "5834/5834 [==============================]5834/5834 [==============================] - 0s 28us/step - loss: 3.7711 - sparse_categorical_crossentropy: 3.7711 - accuracy: 0.0850 - val_loss: 2.8658 - val_sparse_categorical_crossentropy: 2.8658 - val_accuracy: 0.1578\n",
      "\n",
      "Epoch 3/5\n",
      "5834/5834 [==============================]5834/5834 [==============================] - 0s 28us/step - loss: 2.8373 - sparse_categorical_crossentropy: 2.8373 - accuracy: 0.1654 - val_loss: 2.7161 - val_sparse_categorical_crossentropy: 2.7161 - val_accuracy: 0.1722\n",
      "\n",
      "Epoch 4/5\n",
      "5834/5834 [==============================]5834/5834 [==============================] - 0s 28us/step - loss: 2.6717 - sparse_categorical_crossentropy: 2.6717 - accuracy: 0.1803 - val_loss: 2.5930 - val_sparse_categorical_crossentropy: 2.5930 - val_accuracy: 0.1907\n",
      "\n",
      "Epoch 5/5\n",
      "5834/5834 [==============================]5834/5834 [==============================] - 0s 28us/step - loss: 2.5476 - sparse_categorical_crossentropy: 2.5476 - accuracy: 0.1880 - val_loss: 2.5391 - val_sparse_categorical_crossentropy: 2.5391 - val_accuracy: 0.1859\n",
      "\n"
     ]
    },
    {
     "name": "stderr",
     "output_type": "stream",
     "text": [
      "\r",
      "3it [00:20,  6.72s/it]"
     ]
    },
    {
     "name": "stdout",
     "output_type": "stream",
     "text": [
      "--------------- end ---------------\n",
      "--------------- begin ---------------\n",
      "Train on 5834 samples, validate on 1458 samples\n",
      "Epoch 1/5\n",
      "5834/5834 [==============================]5834/5834 [==============================] - 4s 642us/step - loss: 4.3031 - sparse_categorical_crossentropy: 4.3031 - accuracy: 0.0614 - val_loss: 4.8517 - val_sparse_categorical_crossentropy: 4.8517 - val_accuracy: 0.1173\n",
      "\n",
      "Epoch 2/5\n",
      "5834/5834 [==============================]5834/5834 [==============================] - 0s 28us/step - loss: 5.0298 - sparse_categorical_crossentropy: 5.0298 - accuracy: 0.0809 - val_loss: 3.3610 - val_sparse_categorical_crossentropy: 3.3610 - val_accuracy: 0.1139\n",
      "\n",
      "Epoch 3/5\n",
      "5834/5834 [==============================]5834/5834 [==============================] - 0s 28us/step - loss: 3.1547 - sparse_categorical_crossentropy: 3.1547 - accuracy: 0.1214 - val_loss: 2.8746 - val_sparse_categorical_crossentropy: 2.8746 - val_accuracy: 0.1337\n",
      "\n",
      "Epoch 4/5\n",
      "5834/5834 [==============================]5834/5834 [==============================] - 0s 28us/step - loss: 2.7853 - sparse_categorical_crossentropy: 2.7853 - accuracy: 0.1824 - val_loss: 2.7518 - val_sparse_categorical_crossentropy: 2.7518 - val_accuracy: 0.2112\n",
      "\n",
      "Epoch 5/5\n",
      "5834/5834 [==============================]5834/5834 [==============================] - 0s 28us/step - loss: 2.6795 - sparse_categorical_crossentropy: 2.6795 - accuracy: 0.2136 - val_loss: 2.5750 - val_sparse_categorical_crossentropy: 2.5750 - val_accuracy: 0.2380\n",
      "\n"
     ]
    },
    {
     "name": "stderr",
     "output_type": "stream",
     "text": [
      "\r",
      "4it [00:27,  7.03s/it]"
     ]
    },
    {
     "name": "stdout",
     "output_type": "stream",
     "text": [
      "--------------- end ---------------\n",
      "--------------- begin ---------------\n",
      "Train on 5834 samples, validate on 1458 samples\n",
      "Epoch 1/5\n",
      "5834/5834 [==============================]5834/5834 [==============================] - 4s 645us/step - loss: 3.6900 - sparse_categorical_crossentropy: 3.6900 - accuracy: 0.0576 - val_loss: 3.8001 - val_sparse_categorical_crossentropy: 3.8001 - val_accuracy: 0.1036\n",
      "\n",
      "Epoch 2/5\n",
      "5834/5834 [==============================]5834/5834 [==============================] - 0s 28us/step - loss: 3.4298 - sparse_categorical_crossentropy: 3.4298 - accuracy: 0.1118 - val_loss: 2.8540 - val_sparse_categorical_crossentropy: 2.8540 - val_accuracy: 0.1344\n",
      "\n",
      "Epoch 3/5\n",
      "5834/5834 [==============================]5834/5834 [==============================] - 0s 28us/step - loss: 2.8529 - sparse_categorical_crossentropy: 2.8529 - accuracy: 0.1335 - val_loss: 2.6823 - val_sparse_categorical_crossentropy: 2.6823 - val_accuracy: 0.1646\n",
      "\n",
      "Epoch 4/5\n",
      "5834/5834 [==============================]5834/5834 [==============================] - 0s 28us/step - loss: 2.6711 - sparse_categorical_crossentropy: 2.6711 - accuracy: 0.1790 - val_loss: 2.6164 - val_sparse_categorical_crossentropy: 2.6164 - val_accuracy: 0.2126\n",
      "\n",
      "Epoch 5/5\n",
      "5834/5834 [==============================]5834/5834 [==============================] - 0s 28us/step - loss: 2.6025 - sparse_categorical_crossentropy: 2.6025 - accuracy: 0.2029 - val_loss: 2.5394 - val_sparse_categorical_crossentropy: 2.5394 - val_accuracy: 0.2421\n",
      "\n"
     ]
    },
    {
     "name": "stderr",
     "output_type": "stream",
     "text": [
      "5it [00:34,  6.97s/it]"
     ]
    },
    {
     "name": "stdout",
     "output_type": "stream",
     "text": [
      "--------------- end ---------------\n"
     ]
    },
    {
     "name": "stderr",
     "output_type": "stream",
     "text": [
      "\n"
     ]
    }
   ],
   "source": [
    "for train_index, val_index in tqdm(kfold.split(X, y)):\n",
    "    \n",
    "    inputs = tf.keras.Input(shape=(61,8))\n",
    "    \n",
    "    \n",
    "    layer_cnn = tf.keras.layers.Conv1D(256, 10, padding='same')(inputs)\n",
    "    layer_maxpool = tf.keras.layers.MaxPool1D(3, padding='same')(layer_cnn)\n",
    "    \n",
    "    for i in [5,3]:\n",
    "        layer_cnn = tf.keras.layers.Conv1D(256, i, padding='same')(layer_maxpool)\n",
    "        layer_maxpool = tf.keras.layers.MaxPool1D(2, padding='same')(layer_cnn)\n",
    "    \n",
    "    layer_flatten = tf.keras.layers.Flatten()(layer_maxpool)\n",
    "\n",
    "    layer_dense = tf.keras.layers.Dense(units=64, activation=tf.nn.relu)(layer_flatten)\n",
    "    outputs = tf.keras.layers.Dense(units=19, activation=tf.nn.softmax)(layer_dense)\n",
    "\n",
    "    model = tf.keras.Model(inputs=inputs, outputs=outputs)\n",
    "    \n",
    "    model.compile(loss='sparse_categorical_crossentropy',\n",
    "              optimizer=tf.keras.optimizers.Adam(),\n",
    "              metrics=[tf.keras.metrics.sparse_categorical_crossentropy,\n",
    "                      accuracy])\n",
    "\n",
    "    print('--------------- begin ---------------')\n",
    "    X_train, X_val = np.array(list(X[train_index])), np.array(list(X[val_index]))\n",
    "    y_train, y_val = np.array(list(y[train_index])), np.array(list(y[val_index]))\n",
    "    \n",
    "    model.fit(X_train,y_train,\n",
    "          batch_size=2048,\n",
    "          epochs=5,\n",
    "          validation_data=(X_val,y_val)\n",
    "         )\n",
    "    X_val_predict = model.predict(X_val)\n",
    "    X_test_predict = model.predict(np.array(list(X_test)))\n",
    "    \n",
    "    df_train_stacking.loc[val_index,:] = X_val_predict\n",
    "    df_test_stacking[:] += X_test_predict / folds\n",
    "    print('--------------- end ---------------')"
   ]
  },
  {
   "cell_type": "code",
   "execution_count": 106,
   "metadata": {},
   "outputs": [
    {
     "data": {
      "text/html": [
       "<div>\n",
       "<style scoped>\n",
       "    .dataframe tbody tr th:only-of-type {\n",
       "        vertical-align: middle;\n",
       "    }\n",
       "\n",
       "    .dataframe tbody tr th {\n",
       "        vertical-align: top;\n",
       "    }\n",
       "\n",
       "    .dataframe thead th {\n",
       "        text-align: right;\n",
       "    }\n",
       "</style>\n",
       "<table border=\"1\" class=\"dataframe\">\n",
       "  <thead>\n",
       "    <tr style=\"text-align: right;\">\n",
       "      <th></th>\n",
       "      <th>0</th>\n",
       "      <th>1</th>\n",
       "      <th>2</th>\n",
       "      <th>3</th>\n",
       "      <th>4</th>\n",
       "      <th>5</th>\n",
       "      <th>6</th>\n",
       "      <th>7</th>\n",
       "      <th>8</th>\n",
       "      <th>9</th>\n",
       "      <th>10</th>\n",
       "      <th>11</th>\n",
       "      <th>12</th>\n",
       "      <th>13</th>\n",
       "      <th>14</th>\n",
       "      <th>15</th>\n",
       "      <th>16</th>\n",
       "      <th>17</th>\n",
       "      <th>18</th>\n",
       "    </tr>\n",
       "  </thead>\n",
       "  <tbody>\n",
       "    <tr>\n",
       "      <th>0</th>\n",
       "      <td>0.243812</td>\n",
       "      <td>0.064706</td>\n",
       "      <td>0.029902</td>\n",
       "      <td>0.047865</td>\n",
       "      <td>0.989932</td>\n",
       "      <td>0.039458</td>\n",
       "      <td>0.056583</td>\n",
       "      <td>0.049457</td>\n",
       "      <td>0.044811</td>\n",
       "      <td>0.059043</td>\n",
       "      <td>0.083980</td>\n",
       "      <td>0.142380</td>\n",
       "      <td>7.102009</td>\n",
       "      <td>2.740461</td>\n",
       "      <td>0.351695</td>\n",
       "      <td>0.536511</td>\n",
       "      <td>0.147312</td>\n",
       "      <td>0.156350</td>\n",
       "      <td>1.313733</td>\n",
       "    </tr>\n",
       "    <tr>\n",
       "      <th>1</th>\n",
       "      <td>3.619321</td>\n",
       "      <td>2.087809</td>\n",
       "      <td>0.084942</td>\n",
       "      <td>3.298951</td>\n",
       "      <td>0.203715</td>\n",
       "      <td>0.162211</td>\n",
       "      <td>1.595368</td>\n",
       "      <td>0.109770</td>\n",
       "      <td>0.091975</td>\n",
       "      <td>0.557090</td>\n",
       "      <td>0.584444</td>\n",
       "      <td>0.413253</td>\n",
       "      <td>0.478515</td>\n",
       "      <td>0.198514</td>\n",
       "      <td>0.142229</td>\n",
       "      <td>0.264602</td>\n",
       "      <td>0.076586</td>\n",
       "      <td>0.142535</td>\n",
       "      <td>0.088169</td>\n",
       "    </tr>\n",
       "    <tr>\n",
       "      <th>2</th>\n",
       "      <td>0.325228</td>\n",
       "      <td>2.108909</td>\n",
       "      <td>0.152320</td>\n",
       "      <td>1.788739</td>\n",
       "      <td>0.172716</td>\n",
       "      <td>0.444777</td>\n",
       "      <td>2.385206</td>\n",
       "      <td>0.434482</td>\n",
       "      <td>0.292874</td>\n",
       "      <td>1.470469</td>\n",
       "      <td>2.028093</td>\n",
       "      <td>0.761910</td>\n",
       "      <td>0.343931</td>\n",
       "      <td>0.286607</td>\n",
       "      <td>0.174720</td>\n",
       "      <td>0.487102</td>\n",
       "      <td>0.142693</td>\n",
       "      <td>0.273382</td>\n",
       "      <td>0.125843</td>\n",
       "    </tr>\n",
       "    <tr>\n",
       "      <th>3</th>\n",
       "      <td>2.327215</td>\n",
       "      <td>3.125300</td>\n",
       "      <td>0.055698</td>\n",
       "      <td>1.412805</td>\n",
       "      <td>0.084388</td>\n",
       "      <td>0.148327</td>\n",
       "      <td>4.144405</td>\n",
       "      <td>0.117813</td>\n",
       "      <td>0.069589</td>\n",
       "      <td>0.825792</td>\n",
       "      <td>0.221483</td>\n",
       "      <td>0.491864</td>\n",
       "      <td>0.334511</td>\n",
       "      <td>0.159190</td>\n",
       "      <td>0.096730</td>\n",
       "      <td>0.312032</td>\n",
       "      <td>0.059305</td>\n",
       "      <td>0.128634</td>\n",
       "      <td>0.084916</td>\n",
       "    </tr>\n",
       "    <tr>\n",
       "      <th>4</th>\n",
       "      <td>0.112531</td>\n",
       "      <td>0.137456</td>\n",
       "      <td>0.052214</td>\n",
       "      <td>0.113882</td>\n",
       "      <td>0.546122</td>\n",
       "      <td>0.098055</td>\n",
       "      <td>0.092291</td>\n",
       "      <td>0.094492</td>\n",
       "      <td>0.061410</td>\n",
       "      <td>0.086177</td>\n",
       "      <td>0.106932</td>\n",
       "      <td>0.281676</td>\n",
       "      <td>1.327897</td>\n",
       "      <td>4.019764</td>\n",
       "      <td>0.159728</td>\n",
       "      <td>0.564558</td>\n",
       "      <td>0.149304</td>\n",
       "      <td>0.949602</td>\n",
       "      <td>5.245909</td>\n",
       "    </tr>\n",
       "  </tbody>\n",
       "</table>\n",
       "</div>"
      ],
      "text/plain": [
       "          0         1         2         3         4         5         6  \\\n",
       "0  0.243812  0.064706  0.029902  0.047865  0.989932  0.039458  0.056583   \n",
       "1  3.619321  2.087809  0.084942  3.298951  0.203715  0.162211  1.595368   \n",
       "2  0.325228  2.108909  0.152320  1.788739  0.172716  0.444777  2.385206   \n",
       "3  2.327215  3.125300  0.055698  1.412805  0.084388  0.148327  4.144405   \n",
       "4  0.112531  0.137456  0.052214  0.113882  0.546122  0.098055  0.092291   \n",
       "\n",
       "          7         8         9        10        11        12        13  \\\n",
       "0  0.049457  0.044811  0.059043  0.083980  0.142380  7.102009  2.740461   \n",
       "1  0.109770  0.091975  0.557090  0.584444  0.413253  0.478515  0.198514   \n",
       "2  0.434482  0.292874  1.470469  2.028093  0.761910  0.343931  0.286607   \n",
       "3  0.117813  0.069589  0.825792  0.221483  0.491864  0.334511  0.159190   \n",
       "4  0.094492  0.061410  0.086177  0.106932  0.281676  1.327897  4.019764   \n",
       "\n",
       "         14        15        16        17        18  \n",
       "0  0.351695  0.536511  0.147312  0.156350  1.313733  \n",
       "1  0.142229  0.264602  0.076586  0.142535  0.088169  \n",
       "2  0.174720  0.487102  0.142693  0.273382  0.125843  \n",
       "3  0.096730  0.312032  0.059305  0.128634  0.084916  \n",
       "4  0.159728  0.564558  0.149304  0.949602  5.245909  "
      ]
     },
     "execution_count": 106,
     "metadata": {},
     "output_type": "execute_result"
    }
   ],
   "source": [
    "df_test_stacking.head()"
   ]
  },
  {
   "cell_type": "markdown",
   "metadata": {},
   "source": [
    "# 验证和输出结果"
   ]
  },
  {
   "cell_type": "code",
   "execution_count": 107,
   "metadata": {},
   "outputs": [],
   "source": [
    "def acc_combo(y, y_pred):\n",
    "    # 数值ID与行为编码的对应关系\n",
    "    mapping = {0: 'A_0', 1: 'A_1', 2: 'A_2', 3: 'A_3', \n",
    "        4: 'D_4', 5: 'A_5', 6: 'B_1',7: 'B_5', \n",
    "        8: 'B_2', 9: 'B_3', 10: 'B_0', 11: 'A_6', \n",
    "        12: 'C_1', 13: 'C_3', 14: 'C_0', 15: 'B_6', \n",
    "        16: 'C_2', 17: 'C_5', 18: 'C_6'}\n",
    "    # 将行为ID转为编码\n",
    "    code_y, code_y_pred = mapping[y], mapping[y_pred]\n",
    "    if code_y == code_y_pred: #编码完全相同得分1.0\n",
    "        return 1.0\n",
    "    elif code_y.split(\"_\")[0] == code_y_pred.split(\"_\")[0]: #编码仅字母部分相同得分1.0/7\n",
    "        return 1.0/7\n",
    "    elif code_y.split(\"_\")[1] == code_y_pred.split(\"_\")[1]: #编码仅数字部分相同得分1.0/3\n",
    "        return 1.0/3\n",
    "    else:\n",
    "        return 0.0"
   ]
  },
  {
   "cell_type": "code",
   "execution_count": 108,
   "metadata": {},
   "outputs": [
    {
     "name": "stdout",
     "output_type": "stream",
     "text": [
      "--------\n",
      " acc :  0.22943 acc_combo :  0.3257\n"
     ]
    }
   ],
   "source": [
    "labels = np.argmax(df_test_stacking.values, axis=1)\n",
    "pred_y = np.argmax(df_train_stacking.values, axis=1)\n",
    "\n",
    "\n",
    "acc_scores = round(accuracy_score(y, pred_y), 5)\n",
    "acc_combo_scores = round(sum(acc_combo(y_true, y_pred) for y_true, y_pred in zip(y, pred_y)) / len(list(y)),5)\n",
    "\n",
    "print('--------')\n",
    "print(' acc : ', acc_scores, 'acc_combo : ', acc_combo_scores)\n",
    "\n",
    "df_out = df_train_test_features[df_train_test_features['flag']=='test'][['fragment_id']]\n",
    "df_out['behavior_id'] = labels\n",
    "df_out.to_csv('./submit_cnn_%.5f_%.5f.csv' % (acc_scores, acc_combo_scores), index=False)"
   ]
  },
  {
   "cell_type": "code",
   "execution_count": null,
   "metadata": {},
   "outputs": [],
   "source": []
  },
  {
   "cell_type": "markdown",
   "metadata": {},
   "source": [
    "# LSTM"
   ]
  },
  {
   "cell_type": "code",
   "execution_count": 109,
   "metadata": {},
   "outputs": [],
   "source": [
    "df_train_stacking = pd.DataFrame(np.zeros((X.shape[0],19)))\n",
    "df_test_stacking = pd.DataFrame(np.zeros((X_test.shape[0],19)))"
   ]
  },
  {
   "cell_type": "code",
   "execution_count": 110,
   "metadata": {},
   "outputs": [],
   "source": [
    "seed = 2020\n",
    "folds = 5\n",
    "kfold = StratifiedKFold(n_splits=folds, shuffle=True, random_state=seed)"
   ]
  },
  {
   "cell_type": "markdown",
   "metadata": {},
   "source": [
    "# 训练模型"
   ]
  },
  {
   "cell_type": "code",
   "execution_count": 128,
   "metadata": {},
   "outputs": [
    {
     "name": "stderr",
     "output_type": "stream",
     "text": [
      "\r",
      "0it [00:00, ?it/s]"
     ]
    },
    {
     "name": "stdout",
     "output_type": "stream",
     "text": [
      "--------------- begin ---------------\n",
      "Train on 5833 samples, validate on 1459 samples\n",
      "Epoch 1/10\n",
      "5833/5833 [==============================]5833/5833 [==============================] - 7s 1ms/step - loss: 2.9556 - sparse_categorical_crossentropy: 2.9556 - accuracy: 0.0667 - val_loss: 2.7940 - val_sparse_categorical_crossentropy: 2.7940 - val_accuracy: 0.1295\n",
      "\n",
      "Epoch 2/10\n",
      "5833/5833 [==============================]5833/5833 [==============================] - 0s 84us/step - loss: 2.7867 - sparse_categorical_crossentropy: 2.7867 - accuracy: 0.1284 - val_loss: 2.7031 - val_sparse_categorical_crossentropy: 2.7031 - val_accuracy: 0.1337\n",
      "\n",
      "Epoch 3/10\n",
      "5833/5833 [==============================]5833/5833 [==============================] - 0s 84us/step - loss: 2.6894 - sparse_categorical_crossentropy: 2.6894 - accuracy: 0.1425 - val_loss: 2.6323 - val_sparse_categorical_crossentropy: 2.6323 - val_accuracy: 0.1535\n",
      "\n",
      "Epoch 4/10\n",
      "5833/5833 [==============================]5833/5833 [==============================] - 1s 90us/step - loss: 2.6103 - sparse_categorical_crossentropy: 2.6103 - accuracy: 0.1653 - val_loss: 2.5677 - val_sparse_categorical_crossentropy: 2.5677 - val_accuracy: 0.1775\n",
      "\n",
      "Epoch 5/10\n",
      "5833/5833 [==============================]5833/5833 [==============================] - 0s 83us/step - loss: 2.5361 - sparse_categorical_crossentropy: 2.5361 - accuracy: 0.1975 - val_loss: 2.5124 - val_sparse_categorical_crossentropy: 2.5124 - val_accuracy: 0.2426\n",
      "\n",
      "Epoch 6/10\n",
      "5833/5833 [==============================]5833/5833 [==============================] - 1s 103us/step - loss: 2.4767 - sparse_categorical_crossentropy: 2.4767 - accuracy: 0.2500 - val_loss: 2.4501 - val_sparse_categorical_crossentropy: 2.4501 - val_accuracy: 0.2426\n",
      "\n",
      "Epoch 7/10\n",
      "5833/5833 [==============================]5833/5833 [==============================] - 0s 84us/step - loss: 2.4126 - sparse_categorical_crossentropy: 2.4126 - accuracy: 0.2510 - val_loss: 2.3833 - val_sparse_categorical_crossentropy: 2.3833 - val_accuracy: 0.2611\n",
      "\n",
      "Epoch 8/10\n",
      "5833/5833 [==============================]5833/5833 [==============================] - 1s 87us/step - loss: 2.3458 - sparse_categorical_crossentropy: 2.3458 - accuracy: 0.2690 - val_loss: 2.3102 - val_sparse_categorical_crossentropy: 2.3102 - val_accuracy: 0.2803\n",
      "\n",
      "Epoch 9/10\n",
      "5833/5833 [==============================]5833/5833 [==============================] - 0s 85us/step - loss: 2.2711 - sparse_categorical_crossentropy: 2.2711 - accuracy: 0.2851 - val_loss: 2.2519 - val_sparse_categorical_crossentropy: 2.2519 - val_accuracy: 0.2810\n",
      "\n",
      "Epoch 10/10\n",
      "5833/5833 [==============================]5833/5833 [==============================] - 1s 88us/step - loss: 2.2094 - sparse_categorical_crossentropy: 2.2094 - accuracy: 0.2938 - val_loss: 2.1628 - val_sparse_categorical_crossentropy: 2.1628 - val_accuracy: 0.3043\n",
      "\n"
     ]
    },
    {
     "name": "stderr",
     "output_type": "stream",
     "text": [
      "\r",
      "1it [00:26, 26.35s/it]"
     ]
    },
    {
     "name": "stdout",
     "output_type": "stream",
     "text": [
      "--------------- end ---------------\n",
      "--------------- begin ---------------\n",
      "Train on 5833 samples, validate on 1459 samples\n",
      "Epoch 1/10\n",
      "5833/5833 [==============================]5833/5833 [==============================] - 7s 1ms/step - loss: 2.9724 - sparse_categorical_crossentropy: 2.9724 - accuracy: 0.0489 - val_loss: 2.8275 - val_sparse_categorical_crossentropy: 2.8275 - val_accuracy: 0.1049\n",
      "\n",
      "Epoch 2/10\n",
      "5833/5833 [==============================]5833/5833 [==============================] - 0s 85us/step - loss: 2.8171 - sparse_categorical_crossentropy: 2.8171 - accuracy: 0.1073 - val_loss: 2.7450 - val_sparse_categorical_crossentropy: 2.7450 - val_accuracy: 0.1172\n",
      "\n",
      "Epoch 3/10\n",
      "5833/5833 [==============================]5833/5833 [==============================] - 0s 85us/step - loss: 2.7297 - sparse_categorical_crossentropy: 2.7297 - accuracy: 0.1267 - val_loss: 2.6725 - val_sparse_categorical_crossentropy: 2.6725 - val_accuracy: 0.1549\n",
      "\n",
      "Epoch 4/10\n",
      "5833/5833 [==============================]5833/5833 [==============================] - 0s 84us/step - loss: 2.6493 - sparse_categorical_crossentropy: 2.6493 - accuracy: 0.1594 - val_loss: 2.5801 - val_sparse_categorical_crossentropy: 2.5801 - val_accuracy: 0.2070\n",
      "\n",
      "Epoch 5/10\n",
      "5833/5833 [==============================]5833/5833 [==============================] - 1s 86us/step - loss: 2.5514 - sparse_categorical_crossentropy: 2.5514 - accuracy: 0.2272 - val_loss: 2.5059 - val_sparse_categorical_crossentropy: 2.5059 - val_accuracy: 0.2399\n",
      "\n",
      "Epoch 6/10\n",
      "5833/5833 [==============================]5833/5833 [==============================] - 0s 85us/step - loss: 2.4738 - sparse_categorical_crossentropy: 2.4738 - accuracy: 0.2522 - val_loss: 2.4298 - val_sparse_categorical_crossentropy: 2.4298 - val_accuracy: 0.2399\n",
      "\n",
      "Epoch 7/10\n",
      "5833/5833 [==============================]5833/5833 [==============================] - 1s 87us/step - loss: 2.3951 - sparse_categorical_crossentropy: 2.3951 - accuracy: 0.2530 - val_loss: 2.3416 - val_sparse_categorical_crossentropy: 2.3416 - val_accuracy: 0.2721\n",
      "\n",
      "Epoch 8/10\n",
      "5833/5833 [==============================]5833/5833 [==============================] - 0s 85us/step - loss: 2.3114 - sparse_categorical_crossentropy: 2.3114 - accuracy: 0.2808 - val_loss: 2.3651 - val_sparse_categorical_crossentropy: 2.3651 - val_accuracy: 0.2303\n",
      "\n",
      "Epoch 9/10\n",
      "5833/5833 [==============================]5833/5833 [==============================] - 0s 85us/step - loss: 2.3296 - sparse_categorical_crossentropy: 2.3296 - accuracy: 0.2409 - val_loss: 2.2967 - val_sparse_categorical_crossentropy: 2.2967 - val_accuracy: 0.2440\n",
      "\n",
      "Epoch 10/10\n",
      "5833/5833 [==============================]5833/5833 [==============================] - 1s 89us/step - loss: 2.2517 - sparse_categorical_crossentropy: 2.2517 - accuracy: 0.2647 - val_loss: 2.1945 - val_sparse_categorical_crossentropy: 2.1945 - val_accuracy: 0.3002\n",
      "\n"
     ]
    },
    {
     "name": "stderr",
     "output_type": "stream",
     "text": [
      "\r",
      "2it [00:53, 26.61s/it]"
     ]
    },
    {
     "name": "stdout",
     "output_type": "stream",
     "text": [
      "--------------- end ---------------\n",
      "--------------- begin ---------------\n",
      "Train on 5834 samples, validate on 1458 samples\n",
      "Epoch 1/10\n",
      "5834/5834 [==============================]5834/5834 [==============================] - 7s 1ms/step - loss: 2.9619 - sparse_categorical_crossentropy: 2.9619 - accuracy: 0.0540 - val_loss: 2.8187 - val_sparse_categorical_crossentropy: 2.8187 - val_accuracy: 0.1310\n",
      "\n",
      "Epoch 2/10\n",
      "5834/5834 [==============================]5834/5834 [==============================] - 1s 88us/step - loss: 2.8101 - sparse_categorical_crossentropy: 2.8101 - accuracy: 0.1376 - val_loss: 2.7270 - val_sparse_categorical_crossentropy: 2.7270 - val_accuracy: 0.1385\n",
      "\n",
      "Epoch 3/10\n",
      "5834/5834 [==============================]5834/5834 [==============================] - 0s 84us/step - loss: 2.7153 - sparse_categorical_crossentropy: 2.7153 - accuracy: 0.1459 - val_loss: 2.6345 - val_sparse_categorical_crossentropy: 2.6345 - val_accuracy: 0.1660\n",
      "\n",
      "Epoch 4/10\n",
      "5834/5834 [==============================]5834/5834 [==============================] - 0s 82us/step - loss: 2.6157 - sparse_categorical_crossentropy: 2.6157 - accuracy: 0.1807 - val_loss: 2.5454 - val_sparse_categorical_crossentropy: 2.5454 - val_accuracy: 0.2538\n",
      "\n",
      "Epoch 5/10\n",
      "5834/5834 [==============================]5834/5834 [==============================] - 0s 85us/step - loss: 2.5235 - sparse_categorical_crossentropy: 2.5235 - accuracy: 0.2480 - val_loss: 2.4633 - val_sparse_categorical_crossentropy: 2.4633 - val_accuracy: 0.2325\n",
      "\n",
      "Epoch 6/10\n",
      "5834/5834 [==============================]5834/5834 [==============================] - 0s 82us/step - loss: 2.4413 - sparse_categorical_crossentropy: 2.4413 - accuracy: 0.2422 - val_loss: 2.3828 - val_sparse_categorical_crossentropy: 2.3828 - val_accuracy: 0.2798\n",
      "\n",
      "Epoch 7/10\n",
      "5834/5834 [==============================]5834/5834 [==============================] - 0s 82us/step - loss: 2.3566 - sparse_categorical_crossentropy: 2.3566 - accuracy: 0.2796 - val_loss: 2.2963 - val_sparse_categorical_crossentropy: 2.2963 - val_accuracy: 0.2798\n",
      "\n",
      "Epoch 8/10\n",
      "5834/5834 [==============================]5834/5834 [==============================] - 0s 81us/step - loss: 2.2790 - sparse_categorical_crossentropy: 2.2790 - accuracy: 0.2876 - val_loss: 2.2541 - val_sparse_categorical_crossentropy: 2.2541 - val_accuracy: 0.2689\n",
      "\n",
      "Epoch 9/10\n",
      "5834/5834 [==============================]5834/5834 [==============================] - 0s 84us/step - loss: 2.2286 - sparse_categorical_crossentropy: 2.2286 - accuracy: 0.2782 - val_loss: 2.2217 - val_sparse_categorical_crossentropy: 2.2217 - val_accuracy: 0.2565\n",
      "\n",
      "Epoch 10/10\n",
      "5834/5834 [==============================]5834/5834 [==============================] - 0s 82us/step - loss: 2.1846 - sparse_categorical_crossentropy: 2.1846 - accuracy: 0.2864 - val_loss: 2.1458 - val_sparse_categorical_crossentropy: 2.1458 - val_accuracy: 0.2874\n",
      "\n"
     ]
    },
    {
     "name": "stderr",
     "output_type": "stream",
     "text": [
      "\r",
      "3it [01:19, 26.30s/it]"
     ]
    },
    {
     "name": "stdout",
     "output_type": "stream",
     "text": [
      "--------------- end ---------------\n",
      "--------------- begin ---------------\n",
      "Train on 5834 samples, validate on 1458 samples\n",
      "Epoch 1/10\n",
      "5834/5834 [==============================]5834/5834 [==============================] - 7s 1ms/step - loss: 2.9889 - sparse_categorical_crossentropy: 2.9889 - accuracy: 0.0710 - val_loss: 2.8163 - val_sparse_categorical_crossentropy: 2.8163 - val_accuracy: 0.1413\n",
      "\n",
      "Epoch 2/10\n",
      "5834/5834 [==============================]5834/5834 [==============================] - 0s 85us/step - loss: 2.8183 - sparse_categorical_crossentropy: 2.8183 - accuracy: 0.1371 - val_loss: 2.7296 - val_sparse_categorical_crossentropy: 2.7296 - val_accuracy: 0.1955\n",
      "\n",
      "Epoch 3/10\n",
      "5834/5834 [==============================]5834/5834 [==============================] - 1s 91us/step - loss: 2.7375 - sparse_categorical_crossentropy: 2.7375 - accuracy: 0.1736 - val_loss: 2.6517 - val_sparse_categorical_crossentropy: 2.6517 - val_accuracy: 0.2215\n",
      "\n",
      "Epoch 4/10\n",
      "5834/5834 [==============================]5834/5834 [==============================] - 0s 85us/step - loss: 2.6608 - sparse_categorical_crossentropy: 2.6608 - accuracy: 0.2100 - val_loss: 2.5458 - val_sparse_categorical_crossentropy: 2.5458 - val_accuracy: 0.2764\n",
      "\n",
      "Epoch 5/10\n",
      "5834/5834 [==============================]5834/5834 [==============================] - 0s 85us/step - loss: 2.5581 - sparse_categorical_crossentropy: 2.5581 - accuracy: 0.2494 - val_loss: 2.4406 - val_sparse_categorical_crossentropy: 2.4406 - val_accuracy: 0.2613\n",
      "\n",
      "Epoch 6/10\n",
      "5834/5834 [==============================]5834/5834 [==============================] - 0s 82us/step - loss: 2.4619 - sparse_categorical_crossentropy: 2.4619 - accuracy: 0.2461 - val_loss: 2.3576 - val_sparse_categorical_crossentropy: 2.3576 - val_accuracy: 0.2860\n",
      "\n",
      "Epoch 7/10\n",
      "5834/5834 [==============================]5834/5834 [==============================] - 1s 88us/step - loss: 2.3849 - sparse_categorical_crossentropy: 2.3849 - accuracy: 0.2491 - val_loss: 2.2696 - val_sparse_categorical_crossentropy: 2.2696 - val_accuracy: 0.3018\n",
      "\n",
      "Epoch 8/10\n",
      "5834/5834 [==============================]5834/5834 [==============================] - 0s 84us/step - loss: 2.2968 - sparse_categorical_crossentropy: 2.2968 - accuracy: 0.2713 - val_loss: 2.2092 - val_sparse_categorical_crossentropy: 2.2092 - val_accuracy: 0.3169\n",
      "\n",
      "Epoch 9/10\n",
      "5834/5834 [==============================]5834/5834 [==============================] - 0s 83us/step - loss: 2.2373 - sparse_categorical_crossentropy: 2.2373 - accuracy: 0.2919 - val_loss: 2.1355 - val_sparse_categorical_crossentropy: 2.1355 - val_accuracy: 0.3340\n",
      "\n",
      "Epoch 10/10\n",
      "5834/5834 [==============================]5834/5834 [==============================] - 0s 83us/step - loss: 2.1684 - sparse_categorical_crossentropy: 2.1684 - accuracy: 0.3204 - val_loss: 2.0635 - val_sparse_categorical_crossentropy: 2.0635 - val_accuracy: 0.3477\n",
      "\n"
     ]
    },
    {
     "name": "stderr",
     "output_type": "stream",
     "text": [
      "\r",
      "4it [01:46, 26.50s/it]"
     ]
    },
    {
     "name": "stdout",
     "output_type": "stream",
     "text": [
      "--------------- end ---------------\n",
      "--------------- begin ---------------\n",
      "Train on 5834 samples, validate on 1458 samples\n",
      "Epoch 1/10\n",
      "5834/5834 [==============================]5834/5834 [==============================] - 7s 1ms/step - loss: 2.9337 - sparse_categorical_crossentropy: 2.9337 - accuracy: 0.1049 - val_loss: 2.7939 - val_sparse_categorical_crossentropy: 2.7939 - val_accuracy: 0.1289\n",
      "\n",
      "Epoch 2/10\n",
      "5834/5834 [==============================]5834/5834 [==============================] - 1s 90us/step - loss: 2.7890 - sparse_categorical_crossentropy: 2.7890 - accuracy: 0.1270 - val_loss: 2.6930 - val_sparse_categorical_crossentropy: 2.6930 - val_accuracy: 0.1550\n",
      "\n",
      "Epoch 3/10\n",
      "5834/5834 [==============================]5834/5834 [==============================] - 1s 88us/step - loss: 2.6874 - sparse_categorical_crossentropy: 2.6874 - accuracy: 0.1591 - val_loss: 2.5950 - val_sparse_categorical_crossentropy: 2.5950 - val_accuracy: 0.2154\n",
      "\n",
      "Epoch 4/10\n",
      "5834/5834 [==============================]5834/5834 [==============================] - 1s 87us/step - loss: 2.5908 - sparse_categorical_crossentropy: 2.5908 - accuracy: 0.2064 - val_loss: 2.5088 - val_sparse_categorical_crossentropy: 2.5088 - val_accuracy: 0.2160\n",
      "\n",
      "Epoch 5/10\n",
      "5834/5834 [==============================]5834/5834 [==============================] - 0s 84us/step - loss: 2.5060 - sparse_categorical_crossentropy: 2.5060 - accuracy: 0.2206 - val_loss: 2.4339 - val_sparse_categorical_crossentropy: 2.4339 - val_accuracy: 0.2435\n",
      "\n",
      "Epoch 6/10\n",
      "5834/5834 [==============================]5834/5834 [==============================] - 0s 84us/step - loss: 2.4279 - sparse_categorical_crossentropy: 2.4279 - accuracy: 0.2355 - val_loss: 2.3610 - val_sparse_categorical_crossentropy: 2.3610 - val_accuracy: 0.2599\n",
      "\n",
      "Epoch 7/10\n",
      "5834/5834 [==============================]5834/5834 [==============================] - 0s 86us/step - loss: 2.3549 - sparse_categorical_crossentropy: 2.3549 - accuracy: 0.2494 - val_loss: 2.2753 - val_sparse_categorical_crossentropy: 2.2753 - val_accuracy: 0.3182\n",
      "\n",
      "Epoch 8/10\n",
      "5834/5834 [==============================]5834/5834 [==============================] - 1s 86us/step - loss: 2.2697 - sparse_categorical_crossentropy: 2.2697 - accuracy: 0.2924 - val_loss: 2.2115 - val_sparse_categorical_crossentropy: 2.2115 - val_accuracy: 0.3073\n",
      "\n",
      "Epoch 9/10\n",
      "5834/5834 [==============================]5834/5834 [==============================] - 0s 82us/step - loss: 2.2081 - sparse_categorical_crossentropy: 2.2081 - accuracy: 0.3123 - val_loss: 2.1574 - val_sparse_categorical_crossentropy: 2.1574 - val_accuracy: 0.3155\n",
      "\n",
      "Epoch 10/10\n",
      "5834/5834 [==============================]5834/5834 [==============================] - 0s 84us/step - loss: 2.1664 - sparse_categorical_crossentropy: 2.1664 - accuracy: 0.3207 - val_loss: 2.1050 - val_sparse_categorical_crossentropy: 2.1050 - val_accuracy: 0.3285\n",
      "\n"
     ]
    },
    {
     "name": "stderr",
     "output_type": "stream",
     "text": [
      "5it [02:12, 26.57s/it]"
     ]
    },
    {
     "name": "stdout",
     "output_type": "stream",
     "text": [
      "--------------- end ---------------\n"
     ]
    },
    {
     "name": "stderr",
     "output_type": "stream",
     "text": [
      "\n"
     ]
    }
   ],
   "source": [
    "for train_index, val_index in tqdm(kfold.split(X, y)):\n",
    "    \n",
    "    inputs = tf.keras.Input(shape=(61,8))\n",
    "    \n",
    "    layer_lstm = tf.keras.layers.LSTM(128,input_shape=(61,8),return_sequences=True)(inputs)\n",
    "    \n",
    "    layer_lstm = tf.keras.layers.LSTM(128)(layer_lstm)\n",
    "\n",
    "    layer_flatten = tf.keras.layers.Flatten()(layer_lstm)\n",
    "\n",
    "    layer_dense = tf.keras.layers.Dense(units=64, activation=tf.nn.tanh)(layer_flatten)\n",
    "    outputs = tf.keras.layers.Dense(units=19, activation=tf.nn.softmax)(layer_dense)\n",
    "\n",
    "    model = tf.keras.Model(inputs=inputs, outputs=outputs)\n",
    "    \n",
    "    model.compile(loss='sparse_categorical_crossentropy',\n",
    "              optimizer=tf.keras.optimizers.Adam(),\n",
    "              metrics=[tf.keras.metrics.sparse_categorical_crossentropy,\n",
    "                      accuracy])\n",
    "\n",
    "    print('--------------- begin ---------------')\n",
    "    X_train, X_val = np.array(list(X[train_index])), np.array(list(X[val_index]))\n",
    "    y_train, y_val = np.array(list(y[train_index])), np.array(list(y[val_index]))\n",
    "    \n",
    "    model.fit(X_train,y_train,\n",
    "          batch_size=1024*5,\n",
    "          epochs=10,\n",
    "          validation_data=(X_val,y_val)\n",
    "         )\n",
    "    X_val_predict = model.predict(X_val)\n",
    "    X_test_predict = model.predict(np.array(list(X_test)))\n",
    "    \n",
    "    df_train_stacking.loc[val_index,:] = X_val_predict\n",
    "    df_test_stacking[:] += X_test_predict / folds\n",
    "    print('--------------- end ---------------')"
   ]
  },
  {
   "cell_type": "markdown",
   "metadata": {},
   "source": [
    "# 验证和输出结果"
   ]
  },
  {
   "cell_type": "code",
   "execution_count": 129,
   "metadata": {},
   "outputs": [
    {
     "name": "stdout",
     "output_type": "stream",
     "text": [
      "--------\n",
      " acc :  0.31363 acc_combo :  0.40915\n"
     ]
    }
   ],
   "source": [
    "labels = np.argmax(df_test_stacking.values, axis=1)\n",
    "pred_y = np.argmax(df_train_stacking.values, axis=1)\n",
    "\n",
    "\n",
    "acc_scores = round(accuracy_score(y, pred_y), 5)\n",
    "acc_combo_scores = round(sum(acc_combo(y_true, y_pred) for y_true, y_pred in zip(y, pred_y)) / len(list(y)),5)\n",
    "\n",
    "print('--------')\n",
    "print(' acc : ', acc_scores, 'acc_combo : ', acc_combo_scores)\n",
    "\n",
    "df_out = df_train_test_features[df_train_test_features['flag']=='test'][['fragment_id']]\n",
    "df_out['behavior_id'] = labels\n",
    "df_out.to_csv('./submit_lstm_%.5f_%.5f.csv' % (acc_scores, acc_combo_scores), index=False)"
   ]
  },
  {
   "cell_type": "code",
   "execution_count": null,
   "metadata": {},
   "outputs": [],
   "source": []
  },
  {
   "cell_type": "code",
   "execution_count": null,
   "metadata": {},
   "outputs": [],
   "source": []
  }
 ],
 "metadata": {
  "kernelspec": {
   "display_name": "Python 3",
   "language": "python",
   "name": "python3"
  },
  "language_info": {
   "codemirror_mode": {
    "name": "ipython",
    "version": 3
   },
   "file_extension": ".py",
   "mimetype": "text/x-python",
   "name": "python",
   "nbconvert_exporter": "python",
   "pygments_lexer": "ipython3",
   "version": "3.6.9"
  }
 },
 "nbformat": 4,
 "nbformat_minor": 4
}
